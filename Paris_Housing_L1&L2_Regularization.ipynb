{
  "nbformat": 4,
  "nbformat_minor": 0,
  "metadata": {
    "colab": {
      "provenance": []
    },
    "kernelspec": {
      "name": "python3",
      "display_name": "Python 3"
    },
    "language_info": {
      "name": "python"
    }
  },
  "cells": [
    {
      "cell_type": "markdown",
      "source": [
        "##Introduction to the Paris Housing Price Prediction Dataset\n",
        "###The Paris Housing Price Prediction dataset is a comprehensive dataset designed to provide insights into property pricing dynamics in Paris. This dataset is ideal for regression tasks, where the goal is to predict the price of a property based on various features. The dataset includes several key factors that influence housing prices, making it suitable for exploring different regression techniques and regularization methods like Lasso (L1) and Ridge (L2).\n",
        "\n",
        "##Dataset Overview\n",
        "###The dataset contains information about various properties in Paris, including features that are typically relevant in determining real estate prices. These features range from property-specific characteristics like the number of bedrooms to more contextual attributes like the property’s location within the city.\n",
        "\n",
        "##Key Features:\n",
        "1. Square Meters: The size of the property in square meters, a crucial determinant of price.\n",
        "2. Number of Rooms: The total number of rooms in the property, including living rooms and bedrooms.\n",
        "3. Number of Bedrooms: Specifies the number of bedrooms, which directly influences the valuation of the property.\n",
        "4. Floors: Indicates the floor level on which the property is situated, which can impact desirability and hence, price.\n",
        "5. Property Age: The age of the building in years, as older properties may either be valued less or more depending on historical significance.\n",
        "6. Location: Encoded location data that captures different districts or neighborhoods within Paris. Location is one of the most influential factors in housing prices.\n",
        "7. Transport Accessibility: Information related to proximity to metro stations or other public transport facilities.\n",
        "\n",
        "##Objective:\n",
        "\n",
        "###The main objective of this project is to predict housing prices using linear regression models, incorporating L1 (Lasso) and L2 (Ridge) regularization techniques. By applying these regularization methods, we aim to improve the generalization capability of the model while preventing overfitting, which is common in complex real-world datasets.\n",
        "\n",
        "##Why Regularization?\n",
        "###In linear regression, overfitting can occur when the model becomes too complex by fitting noise in the dataset. Regularization methods such as Lasso and Ridge introduce a penalty on the coefficients, encouraging simpler models that generalize better to unseen data. This is especially important in housing price prediction, where capturing underlying trends without being misled by outliers or noise is key to making reliable predictions.\n",
        "\n",
        "##Exploratory Data Analysis (EDA) and Feature Engineering:\n",
        "###The dataset will first undergo thorough exploratory data analysis (EDA) to uncover relationships between features and housing prices. We will then preprocess the data by handling missing values, standardizing features, and encoding categorical variables. Feature engineering may be applied to derive additional meaningful insights from the existing features.\n",
        "\n",
        "##Modeling Approach:\n",
        "###We will apply both Lasso and Ridge regression models to understand the impact of L1 and L2 regularization techniques on the predictive performance. We will evaluate the models based on metrics like Mean Squared Error (MSE) and R-squared (R²) values, and further fine-tune the models by adjusting the regularization strength (alpha) to optimize performance.\n",
        "\n",
        "##Conclusion:\n",
        "###This dataset and project provide an excellent platform to explore the use of regularization in regression analysis. By comparing Lasso and Ridge, we aim to strike a balance between model accuracy and simplicity, ensuring the model not only fits well on the training data but also performs effectively on new, unseen data."
      ],
      "metadata": {
        "id": "0nL_wlellHba"
      }
    },
    {
      "cell_type": "code",
      "execution_count": 1,
      "metadata": {
        "id": "tdFAeUxOLk44"
      },
      "outputs": [],
      "source": [
        "import pandas as pd # Pandas is a powerful library for data manipulation and analysis.\n",
        "import numpy as np # NumPy is a powerful tool for numerical computations in Python\n"
      ]
    },
    {
      "cell_type": "markdown",
      "source": [
        "##Loading the Dataset"
      ],
      "metadata": {
        "id": "ZFjzMZGimEGk"
      }
    },
    {
      "cell_type": "code",
      "source": [
        "df= pd.read_csv(\"ParisHousing (1).csv\") #The df = pd.read_csv line reads a CSV file into a DataFrame named df using the pandas library."
      ],
      "metadata": {
        "id": "NNxsqBIdPd_7"
      },
      "execution_count": 2,
      "outputs": []
    },
    {
      "cell_type": "code",
      "source": [
        "df.head()"
      ],
      "metadata": {
        "colab": {
          "base_uri": "https://localhost:8080/",
          "height": 206
        },
        "id": "kkShTuaLPm67",
        "outputId": "4c2f1ac7-f095-400f-9056-8039b4d88f5d"
      },
      "execution_count": 3,
      "outputs": [
        {
          "output_type": "execute_result",
          "data": {
            "text/plain": [
              "   squareMeters  numberOfRooms  hasYard  hasPool  floors  cityCode  \\\n",
              "0         75523              3        0        1      63      9373   \n",
              "1         80771             39        1        1      98     39381   \n",
              "2         55712             58        0        1      19     34457   \n",
              "3         32316             47        0        0       6     27939   \n",
              "4         70429             19        1        1      90     38045   \n",
              "\n",
              "   cityPartRange  numPrevOwners  made  isNewBuilt  hasStormProtector  \\\n",
              "0              3              8  2005           0                  1   \n",
              "1              8              6  2015           1                  0   \n",
              "2              6              8  2021           0                  0   \n",
              "3             10              4  2012           0                  1   \n",
              "4              3              7  1990           1                  0   \n",
              "\n",
              "   basement  attic  garage  hasStorageRoom  hasGuestRoom      price  \n",
              "0      4313   9005     956               0             7  7559081.5  \n",
              "1      3653   2436     128               1             2  8085989.5  \n",
              "2      2937   8852     135               1             9  5574642.1  \n",
              "3       659   7141     359               0             3  3232561.2  \n",
              "4      8435   2429     292               1             4  7055052.0  "
            ],
            "text/html": [
              "\n",
              "  <div id=\"df-2885f811-0691-4c84-9bfa-4128e57ad202\" class=\"colab-df-container\">\n",
              "    <div>\n",
              "<style scoped>\n",
              "    .dataframe tbody tr th:only-of-type {\n",
              "        vertical-align: middle;\n",
              "    }\n",
              "\n",
              "    .dataframe tbody tr th {\n",
              "        vertical-align: top;\n",
              "    }\n",
              "\n",
              "    .dataframe thead th {\n",
              "        text-align: right;\n",
              "    }\n",
              "</style>\n",
              "<table border=\"1\" class=\"dataframe\">\n",
              "  <thead>\n",
              "    <tr style=\"text-align: right;\">\n",
              "      <th></th>\n",
              "      <th>squareMeters</th>\n",
              "      <th>numberOfRooms</th>\n",
              "      <th>hasYard</th>\n",
              "      <th>hasPool</th>\n",
              "      <th>floors</th>\n",
              "      <th>cityCode</th>\n",
              "      <th>cityPartRange</th>\n",
              "      <th>numPrevOwners</th>\n",
              "      <th>made</th>\n",
              "      <th>isNewBuilt</th>\n",
              "      <th>hasStormProtector</th>\n",
              "      <th>basement</th>\n",
              "      <th>attic</th>\n",
              "      <th>garage</th>\n",
              "      <th>hasStorageRoom</th>\n",
              "      <th>hasGuestRoom</th>\n",
              "      <th>price</th>\n",
              "    </tr>\n",
              "  </thead>\n",
              "  <tbody>\n",
              "    <tr>\n",
              "      <th>0</th>\n",
              "      <td>75523</td>\n",
              "      <td>3</td>\n",
              "      <td>0</td>\n",
              "      <td>1</td>\n",
              "      <td>63</td>\n",
              "      <td>9373</td>\n",
              "      <td>3</td>\n",
              "      <td>8</td>\n",
              "      <td>2005</td>\n",
              "      <td>0</td>\n",
              "      <td>1</td>\n",
              "      <td>4313</td>\n",
              "      <td>9005</td>\n",
              "      <td>956</td>\n",
              "      <td>0</td>\n",
              "      <td>7</td>\n",
              "      <td>7559081.5</td>\n",
              "    </tr>\n",
              "    <tr>\n",
              "      <th>1</th>\n",
              "      <td>80771</td>\n",
              "      <td>39</td>\n",
              "      <td>1</td>\n",
              "      <td>1</td>\n",
              "      <td>98</td>\n",
              "      <td>39381</td>\n",
              "      <td>8</td>\n",
              "      <td>6</td>\n",
              "      <td>2015</td>\n",
              "      <td>1</td>\n",
              "      <td>0</td>\n",
              "      <td>3653</td>\n",
              "      <td>2436</td>\n",
              "      <td>128</td>\n",
              "      <td>1</td>\n",
              "      <td>2</td>\n",
              "      <td>8085989.5</td>\n",
              "    </tr>\n",
              "    <tr>\n",
              "      <th>2</th>\n",
              "      <td>55712</td>\n",
              "      <td>58</td>\n",
              "      <td>0</td>\n",
              "      <td>1</td>\n",
              "      <td>19</td>\n",
              "      <td>34457</td>\n",
              "      <td>6</td>\n",
              "      <td>8</td>\n",
              "      <td>2021</td>\n",
              "      <td>0</td>\n",
              "      <td>0</td>\n",
              "      <td>2937</td>\n",
              "      <td>8852</td>\n",
              "      <td>135</td>\n",
              "      <td>1</td>\n",
              "      <td>9</td>\n",
              "      <td>5574642.1</td>\n",
              "    </tr>\n",
              "    <tr>\n",
              "      <th>3</th>\n",
              "      <td>32316</td>\n",
              "      <td>47</td>\n",
              "      <td>0</td>\n",
              "      <td>0</td>\n",
              "      <td>6</td>\n",
              "      <td>27939</td>\n",
              "      <td>10</td>\n",
              "      <td>4</td>\n",
              "      <td>2012</td>\n",
              "      <td>0</td>\n",
              "      <td>1</td>\n",
              "      <td>659</td>\n",
              "      <td>7141</td>\n",
              "      <td>359</td>\n",
              "      <td>0</td>\n",
              "      <td>3</td>\n",
              "      <td>3232561.2</td>\n",
              "    </tr>\n",
              "    <tr>\n",
              "      <th>4</th>\n",
              "      <td>70429</td>\n",
              "      <td>19</td>\n",
              "      <td>1</td>\n",
              "      <td>1</td>\n",
              "      <td>90</td>\n",
              "      <td>38045</td>\n",
              "      <td>3</td>\n",
              "      <td>7</td>\n",
              "      <td>1990</td>\n",
              "      <td>1</td>\n",
              "      <td>0</td>\n",
              "      <td>8435</td>\n",
              "      <td>2429</td>\n",
              "      <td>292</td>\n",
              "      <td>1</td>\n",
              "      <td>4</td>\n",
              "      <td>7055052.0</td>\n",
              "    </tr>\n",
              "  </tbody>\n",
              "</table>\n",
              "</div>\n",
              "    <div class=\"colab-df-buttons\">\n",
              "\n",
              "  <div class=\"colab-df-container\">\n",
              "    <button class=\"colab-df-convert\" onclick=\"convertToInteractive('df-2885f811-0691-4c84-9bfa-4128e57ad202')\"\n",
              "            title=\"Convert this dataframe to an interactive table.\"\n",
              "            style=\"display:none;\">\n",
              "\n",
              "  <svg xmlns=\"http://www.w3.org/2000/svg\" height=\"24px\" viewBox=\"0 -960 960 960\">\n",
              "    <path d=\"M120-120v-720h720v720H120Zm60-500h600v-160H180v160Zm220 220h160v-160H400v160Zm0 220h160v-160H400v160ZM180-400h160v-160H180v160Zm440 0h160v-160H620v160ZM180-180h160v-160H180v160Zm440 0h160v-160H620v160Z\"/>\n",
              "  </svg>\n",
              "    </button>\n",
              "\n",
              "  <style>\n",
              "    .colab-df-container {\n",
              "      display:flex;\n",
              "      gap: 12px;\n",
              "    }\n",
              "\n",
              "    .colab-df-convert {\n",
              "      background-color: #E8F0FE;\n",
              "      border: none;\n",
              "      border-radius: 50%;\n",
              "      cursor: pointer;\n",
              "      display: none;\n",
              "      fill: #1967D2;\n",
              "      height: 32px;\n",
              "      padding: 0 0 0 0;\n",
              "      width: 32px;\n",
              "    }\n",
              "\n",
              "    .colab-df-convert:hover {\n",
              "      background-color: #E2EBFA;\n",
              "      box-shadow: 0px 1px 2px rgba(60, 64, 67, 0.3), 0px 1px 3px 1px rgba(60, 64, 67, 0.15);\n",
              "      fill: #174EA6;\n",
              "    }\n",
              "\n",
              "    .colab-df-buttons div {\n",
              "      margin-bottom: 4px;\n",
              "    }\n",
              "\n",
              "    [theme=dark] .colab-df-convert {\n",
              "      background-color: #3B4455;\n",
              "      fill: #D2E3FC;\n",
              "    }\n",
              "\n",
              "    [theme=dark] .colab-df-convert:hover {\n",
              "      background-color: #434B5C;\n",
              "      box-shadow: 0px 1px 3px 1px rgba(0, 0, 0, 0.15);\n",
              "      filter: drop-shadow(0px 1px 2px rgba(0, 0, 0, 0.3));\n",
              "      fill: #FFFFFF;\n",
              "    }\n",
              "  </style>\n",
              "\n",
              "    <script>\n",
              "      const buttonEl =\n",
              "        document.querySelector('#df-2885f811-0691-4c84-9bfa-4128e57ad202 button.colab-df-convert');\n",
              "      buttonEl.style.display =\n",
              "        google.colab.kernel.accessAllowed ? 'block' : 'none';\n",
              "\n",
              "      async function convertToInteractive(key) {\n",
              "        const element = document.querySelector('#df-2885f811-0691-4c84-9bfa-4128e57ad202');\n",
              "        const dataTable =\n",
              "          await google.colab.kernel.invokeFunction('convertToInteractive',\n",
              "                                                    [key], {});\n",
              "        if (!dataTable) return;\n",
              "\n",
              "        const docLinkHtml = 'Like what you see? Visit the ' +\n",
              "          '<a target=\"_blank\" href=https://colab.research.google.com/notebooks/data_table.ipynb>data table notebook</a>'\n",
              "          + ' to learn more about interactive tables.';\n",
              "        element.innerHTML = '';\n",
              "        dataTable['output_type'] = 'display_data';\n",
              "        await google.colab.output.renderOutput(dataTable, element);\n",
              "        const docLink = document.createElement('div');\n",
              "        docLink.innerHTML = docLinkHtml;\n",
              "        element.appendChild(docLink);\n",
              "      }\n",
              "    </script>\n",
              "  </div>\n",
              "\n",
              "\n",
              "<div id=\"df-0efc1b20-9f6a-4997-80af-450383b3d833\">\n",
              "  <button class=\"colab-df-quickchart\" onclick=\"quickchart('df-0efc1b20-9f6a-4997-80af-450383b3d833')\"\n",
              "            title=\"Suggest charts\"\n",
              "            style=\"display:none;\">\n",
              "\n",
              "<svg xmlns=\"http://www.w3.org/2000/svg\" height=\"24px\"viewBox=\"0 0 24 24\"\n",
              "     width=\"24px\">\n",
              "    <g>\n",
              "        <path d=\"M19 3H5c-1.1 0-2 .9-2 2v14c0 1.1.9 2 2 2h14c1.1 0 2-.9 2-2V5c0-1.1-.9-2-2-2zM9 17H7v-7h2v7zm4 0h-2V7h2v10zm4 0h-2v-4h2v4z\"/>\n",
              "    </g>\n",
              "</svg>\n",
              "  </button>\n",
              "\n",
              "<style>\n",
              "  .colab-df-quickchart {\n",
              "      --bg-color: #E8F0FE;\n",
              "      --fill-color: #1967D2;\n",
              "      --hover-bg-color: #E2EBFA;\n",
              "      --hover-fill-color: #174EA6;\n",
              "      --disabled-fill-color: #AAA;\n",
              "      --disabled-bg-color: #DDD;\n",
              "  }\n",
              "\n",
              "  [theme=dark] .colab-df-quickchart {\n",
              "      --bg-color: #3B4455;\n",
              "      --fill-color: #D2E3FC;\n",
              "      --hover-bg-color: #434B5C;\n",
              "      --hover-fill-color: #FFFFFF;\n",
              "      --disabled-bg-color: #3B4455;\n",
              "      --disabled-fill-color: #666;\n",
              "  }\n",
              "\n",
              "  .colab-df-quickchart {\n",
              "    background-color: var(--bg-color);\n",
              "    border: none;\n",
              "    border-radius: 50%;\n",
              "    cursor: pointer;\n",
              "    display: none;\n",
              "    fill: var(--fill-color);\n",
              "    height: 32px;\n",
              "    padding: 0;\n",
              "    width: 32px;\n",
              "  }\n",
              "\n",
              "  .colab-df-quickchart:hover {\n",
              "    background-color: var(--hover-bg-color);\n",
              "    box-shadow: 0 1px 2px rgba(60, 64, 67, 0.3), 0 1px 3px 1px rgba(60, 64, 67, 0.15);\n",
              "    fill: var(--button-hover-fill-color);\n",
              "  }\n",
              "\n",
              "  .colab-df-quickchart-complete:disabled,\n",
              "  .colab-df-quickchart-complete:disabled:hover {\n",
              "    background-color: var(--disabled-bg-color);\n",
              "    fill: var(--disabled-fill-color);\n",
              "    box-shadow: none;\n",
              "  }\n",
              "\n",
              "  .colab-df-spinner {\n",
              "    border: 2px solid var(--fill-color);\n",
              "    border-color: transparent;\n",
              "    border-bottom-color: var(--fill-color);\n",
              "    animation:\n",
              "      spin 1s steps(1) infinite;\n",
              "  }\n",
              "\n",
              "  @keyframes spin {\n",
              "    0% {\n",
              "      border-color: transparent;\n",
              "      border-bottom-color: var(--fill-color);\n",
              "      border-left-color: var(--fill-color);\n",
              "    }\n",
              "    20% {\n",
              "      border-color: transparent;\n",
              "      border-left-color: var(--fill-color);\n",
              "      border-top-color: var(--fill-color);\n",
              "    }\n",
              "    30% {\n",
              "      border-color: transparent;\n",
              "      border-left-color: var(--fill-color);\n",
              "      border-top-color: var(--fill-color);\n",
              "      border-right-color: var(--fill-color);\n",
              "    }\n",
              "    40% {\n",
              "      border-color: transparent;\n",
              "      border-right-color: var(--fill-color);\n",
              "      border-top-color: var(--fill-color);\n",
              "    }\n",
              "    60% {\n",
              "      border-color: transparent;\n",
              "      border-right-color: var(--fill-color);\n",
              "    }\n",
              "    80% {\n",
              "      border-color: transparent;\n",
              "      border-right-color: var(--fill-color);\n",
              "      border-bottom-color: var(--fill-color);\n",
              "    }\n",
              "    90% {\n",
              "      border-color: transparent;\n",
              "      border-bottom-color: var(--fill-color);\n",
              "    }\n",
              "  }\n",
              "</style>\n",
              "\n",
              "  <script>\n",
              "    async function quickchart(key) {\n",
              "      const quickchartButtonEl =\n",
              "        document.querySelector('#' + key + ' button');\n",
              "      quickchartButtonEl.disabled = true;  // To prevent multiple clicks.\n",
              "      quickchartButtonEl.classList.add('colab-df-spinner');\n",
              "      try {\n",
              "        const charts = await google.colab.kernel.invokeFunction(\n",
              "            'suggestCharts', [key], {});\n",
              "      } catch (error) {\n",
              "        console.error('Error during call to suggestCharts:', error);\n",
              "      }\n",
              "      quickchartButtonEl.classList.remove('colab-df-spinner');\n",
              "      quickchartButtonEl.classList.add('colab-df-quickchart-complete');\n",
              "    }\n",
              "    (() => {\n",
              "      let quickchartButtonEl =\n",
              "        document.querySelector('#df-0efc1b20-9f6a-4997-80af-450383b3d833 button');\n",
              "      quickchartButtonEl.style.display =\n",
              "        google.colab.kernel.accessAllowed ? 'block' : 'none';\n",
              "    })();\n",
              "  </script>\n",
              "</div>\n",
              "\n",
              "    </div>\n",
              "  </div>\n"
            ],
            "application/vnd.google.colaboratory.intrinsic+json": {
              "type": "dataframe",
              "variable_name": "df",
              "summary": "{\n  \"name\": \"df\",\n  \"rows\": 10000,\n  \"fields\": [\n    {\n      \"column\": \"squareMeters\",\n      \"properties\": {\n        \"dtype\": \"number\",\n        \"std\": 28774,\n        \"min\": 89,\n        \"max\": 99999,\n        \"num_unique_values\": 9483,\n        \"samples\": [\n          68122,\n          7199,\n          6415\n        ],\n        \"semantic_type\": \"\",\n        \"description\": \"\"\n      }\n    },\n    {\n      \"column\": \"numberOfRooms\",\n      \"properties\": {\n        \"dtype\": \"number\",\n        \"std\": 28,\n        \"min\": 1,\n        \"max\": 100,\n        \"num_unique_values\": 100,\n        \"samples\": [\n          2,\n          73,\n          68\n        ],\n        \"semantic_type\": \"\",\n        \"description\": \"\"\n      }\n    },\n    {\n      \"column\": \"hasYard\",\n      \"properties\": {\n        \"dtype\": \"number\",\n        \"std\": 0,\n        \"min\": 0,\n        \"max\": 1,\n        \"num_unique_values\": 2,\n        \"samples\": [\n          1,\n          0\n        ],\n        \"semantic_type\": \"\",\n        \"description\": \"\"\n      }\n    },\n    {\n      \"column\": \"hasPool\",\n      \"properties\": {\n        \"dtype\": \"number\",\n        \"std\": 0,\n        \"min\": 0,\n        \"max\": 1,\n        \"num_unique_values\": 2,\n        \"samples\": [\n          0,\n          1\n        ],\n        \"semantic_type\": \"\",\n        \"description\": \"\"\n      }\n    },\n    {\n      \"column\": \"floors\",\n      \"properties\": {\n        \"dtype\": \"number\",\n        \"std\": 28,\n        \"min\": 1,\n        \"max\": 100,\n        \"num_unique_values\": 100,\n        \"samples\": [\n          81,\n          58\n        ],\n        \"semantic_type\": \"\",\n        \"description\": \"\"\n      }\n    },\n    {\n      \"column\": \"cityCode\",\n      \"properties\": {\n        \"dtype\": \"number\",\n        \"std\": 29006,\n        \"min\": 3,\n        \"max\": 99953,\n        \"num_unique_values\": 9509,\n        \"samples\": [\n          22936,\n          67986\n        ],\n        \"semantic_type\": \"\",\n        \"description\": \"\"\n      }\n    },\n    {\n      \"column\": \"cityPartRange\",\n      \"properties\": {\n        \"dtype\": \"number\",\n        \"std\": 2,\n        \"min\": 1,\n        \"max\": 10,\n        \"num_unique_values\": 10,\n        \"samples\": [\n          9,\n          8\n        ],\n        \"semantic_type\": \"\",\n        \"description\": \"\"\n      }\n    },\n    {\n      \"column\": \"numPrevOwners\",\n      \"properties\": {\n        \"dtype\": \"number\",\n        \"std\": 2,\n        \"min\": 1,\n        \"max\": 10,\n        \"num_unique_values\": 10,\n        \"samples\": [\n          1,\n          6\n        ],\n        \"semantic_type\": \"\",\n        \"description\": \"\"\n      }\n    },\n    {\n      \"column\": \"made\",\n      \"properties\": {\n        \"dtype\": \"number\",\n        \"std\": 9,\n        \"min\": 1990,\n        \"max\": 2021,\n        \"num_unique_values\": 32,\n        \"samples\": [\n          2007,\n          2017\n        ],\n        \"semantic_type\": \"\",\n        \"description\": \"\"\n      }\n    },\n    {\n      \"column\": \"isNewBuilt\",\n      \"properties\": {\n        \"dtype\": \"number\",\n        \"std\": 0,\n        \"min\": 0,\n        \"max\": 1,\n        \"num_unique_values\": 2,\n        \"samples\": [\n          1,\n          0\n        ],\n        \"semantic_type\": \"\",\n        \"description\": \"\"\n      }\n    },\n    {\n      \"column\": \"hasStormProtector\",\n      \"properties\": {\n        \"dtype\": \"number\",\n        \"std\": 0,\n        \"min\": 0,\n        \"max\": 1,\n        \"num_unique_values\": 2,\n        \"samples\": [\n          0,\n          1\n        ],\n        \"semantic_type\": \"\",\n        \"description\": \"\"\n      }\n    },\n    {\n      \"column\": \"basement\",\n      \"properties\": {\n        \"dtype\": \"number\",\n        \"std\": 2876,\n        \"min\": 0,\n        \"max\": 10000,\n        \"num_unique_values\": 6352,\n        \"samples\": [\n          9717,\n          102\n        ],\n        \"semantic_type\": \"\",\n        \"description\": \"\"\n      }\n    },\n    {\n      \"column\": \"attic\",\n      \"properties\": {\n        \"dtype\": \"number\",\n        \"std\": 2894,\n        \"min\": 1,\n        \"max\": 10000,\n        \"num_unique_values\": 6267,\n        \"samples\": [\n          2076,\n          6632\n        ],\n        \"semantic_type\": \"\",\n        \"description\": \"\"\n      }\n    },\n    {\n      \"column\": \"garage\",\n      \"properties\": {\n        \"dtype\": \"number\",\n        \"std\": 262,\n        \"min\": 100,\n        \"max\": 1000,\n        \"num_unique_values\": 901,\n        \"samples\": [\n          808,\n          942\n        ],\n        \"semantic_type\": \"\",\n        \"description\": \"\"\n      }\n    },\n    {\n      \"column\": \"hasStorageRoom\",\n      \"properties\": {\n        \"dtype\": \"number\",\n        \"std\": 0,\n        \"min\": 0,\n        \"max\": 1,\n        \"num_unique_values\": 2,\n        \"samples\": [\n          1,\n          0\n        ],\n        \"semantic_type\": \"\",\n        \"description\": \"\"\n      }\n    },\n    {\n      \"column\": \"hasGuestRoom\",\n      \"properties\": {\n        \"dtype\": \"number\",\n        \"std\": 3,\n        \"min\": 0,\n        \"max\": 10,\n        \"num_unique_values\": 11,\n        \"samples\": [\n          1,\n          7\n        ],\n        \"semantic_type\": \"\",\n        \"description\": \"\"\n      }\n    },\n    {\n      \"column\": \"price\",\n      \"properties\": {\n        \"dtype\": \"number\",\n        \"std\": 2877424.109945015,\n        \"min\": 10313.5,\n        \"max\": 10006771.2,\n        \"num_unique_values\": 10000,\n        \"samples\": [\n          7964369.6,\n          3713548.9\n        ],\n        \"semantic_type\": \"\",\n        \"description\": \"\"\n      }\n    }\n  ]\n}"
            }
          },
          "metadata": {},
          "execution_count": 3
        }
      ]
    },
    {
      "cell_type": "code",
      "source": [
        "df.shape # Displays the total count of the Rows and Columns respectively."
      ],
      "metadata": {
        "colab": {
          "base_uri": "https://localhost:8080/"
        },
        "id": "gXzUrixDSjtp",
        "outputId": "41e366e4-ae00-419b-ba1d-72f7c3c0c49e"
      },
      "execution_count": 4,
      "outputs": [
        {
          "output_type": "execute_result",
          "data": {
            "text/plain": [
              "(10000, 17)"
            ]
          },
          "metadata": {},
          "execution_count": 4
        }
      ]
    },
    {
      "cell_type": "code",
      "source": [
        "df.info() #Displays the total count of values present in the particular column along with the null count and data type."
      ],
      "metadata": {
        "colab": {
          "base_uri": "https://localhost:8080/"
        },
        "id": "ScubTNMaSlcS",
        "outputId": "3d197e1e-5e4e-43e5-d9b3-fd1e545b3ff8"
      },
      "execution_count": 5,
      "outputs": [
        {
          "output_type": "stream",
          "name": "stdout",
          "text": [
            "<class 'pandas.core.frame.DataFrame'>\n",
            "RangeIndex: 10000 entries, 0 to 9999\n",
            "Data columns (total 17 columns):\n",
            " #   Column             Non-Null Count  Dtype  \n",
            "---  ------             --------------  -----  \n",
            " 0   squareMeters       10000 non-null  int64  \n",
            " 1   numberOfRooms      10000 non-null  int64  \n",
            " 2   hasYard            10000 non-null  int64  \n",
            " 3   hasPool            10000 non-null  int64  \n",
            " 4   floors             10000 non-null  int64  \n",
            " 5   cityCode           10000 non-null  int64  \n",
            " 6   cityPartRange      10000 non-null  int64  \n",
            " 7   numPrevOwners      10000 non-null  int64  \n",
            " 8   made               10000 non-null  int64  \n",
            " 9   isNewBuilt         10000 non-null  int64  \n",
            " 10  hasStormProtector  10000 non-null  int64  \n",
            " 11  basement           10000 non-null  int64  \n",
            " 12  attic              10000 non-null  int64  \n",
            " 13  garage             10000 non-null  int64  \n",
            " 14  hasStorageRoom     10000 non-null  int64  \n",
            " 15  hasGuestRoom       10000 non-null  int64  \n",
            " 16  price              10000 non-null  float64\n",
            "dtypes: float64(1), int64(16)\n",
            "memory usage: 1.3 MB\n"
          ]
        }
      ]
    },
    {
      "cell_type": "code",
      "source": [
        "print(df.isnull().sum()) #Is used to display the dimensions of the DataFrame df. Giving you a quick overview of the size of your dataset."
      ],
      "metadata": {
        "colab": {
          "base_uri": "https://localhost:8080/"
        },
        "id": "YF9y5v4eSrwa",
        "outputId": "77fccea7-887f-4ea5-d659-8fdab6fe222f"
      },
      "execution_count": 6,
      "outputs": [
        {
          "output_type": "stream",
          "name": "stdout",
          "text": [
            "squareMeters         0\n",
            "numberOfRooms        0\n",
            "hasYard              0\n",
            "hasPool              0\n",
            "floors               0\n",
            "cityCode             0\n",
            "cityPartRange        0\n",
            "numPrevOwners        0\n",
            "made                 0\n",
            "isNewBuilt           0\n",
            "hasStormProtector    0\n",
            "basement             0\n",
            "attic                0\n",
            "garage               0\n",
            "hasStorageRoom       0\n",
            "hasGuestRoom         0\n",
            "price                0\n",
            "dtype: int64\n"
          ]
        }
      ]
    },
    {
      "cell_type": "code",
      "source": [
        "df.info() #Displays the total count of values present in the particular column along with the null count and data type."
      ],
      "metadata": {
        "colab": {
          "base_uri": "https://localhost:8080/"
        },
        "id": "TVZ3t1J4SvA6",
        "outputId": "56aac2fc-082f-44f8-cb20-6b7b331be925"
      },
      "execution_count": 7,
      "outputs": [
        {
          "output_type": "stream",
          "name": "stdout",
          "text": [
            "<class 'pandas.core.frame.DataFrame'>\n",
            "RangeIndex: 10000 entries, 0 to 9999\n",
            "Data columns (total 17 columns):\n",
            " #   Column             Non-Null Count  Dtype  \n",
            "---  ------             --------------  -----  \n",
            " 0   squareMeters       10000 non-null  int64  \n",
            " 1   numberOfRooms      10000 non-null  int64  \n",
            " 2   hasYard            10000 non-null  int64  \n",
            " 3   hasPool            10000 non-null  int64  \n",
            " 4   floors             10000 non-null  int64  \n",
            " 5   cityCode           10000 non-null  int64  \n",
            " 6   cityPartRange      10000 non-null  int64  \n",
            " 7   numPrevOwners      10000 non-null  int64  \n",
            " 8   made               10000 non-null  int64  \n",
            " 9   isNewBuilt         10000 non-null  int64  \n",
            " 10  hasStormProtector  10000 non-null  int64  \n",
            " 11  basement           10000 non-null  int64  \n",
            " 12  attic              10000 non-null  int64  \n",
            " 13  garage             10000 non-null  int64  \n",
            " 14  hasStorageRoom     10000 non-null  int64  \n",
            " 15  hasGuestRoom       10000 non-null  int64  \n",
            " 16  price              10000 non-null  float64\n",
            "dtypes: float64(1), int64(16)\n",
            "memory usage: 1.3 MB\n"
          ]
        }
      ]
    },
    {
      "cell_type": "markdown",
      "source": [
        "###There is no null value in the dataset."
      ],
      "metadata": {
        "id": "8_w2fUQkmjhO"
      }
    },
    {
      "cell_type": "code",
      "source": [
        "X= df.iloc[:,:-1].values #Extracts all the columns of the DataFrame df except the last one"
      ],
      "metadata": {
        "id": "l83ysBGZToYC"
      },
      "execution_count": 8,
      "outputs": []
    },
    {
      "cell_type": "code",
      "source": [
        "y = df.iloc[:,-1].values #Extracts the last column of the DataFrame df and stores its underlying NumPy array representation in the variable y."
      ],
      "metadata": {
        "id": "kuqSyGhwT3Fb"
      },
      "execution_count": 9,
      "outputs": []
    },
    {
      "cell_type": "code",
      "source": [
        "from sklearn.model_selection import train_test_split\n",
        "X_train, X_test, y_train, y_test = train_test_split(X, y, test_size=0.2, random_state=42)"
      ],
      "metadata": {
        "id": "esU5IU0yUFpf"
      },
      "execution_count": 10,
      "outputs": []
    },
    {
      "cell_type": "markdown",
      "source": [
        "####This code splits your data (X - features, and y - target variable) into training and testing sets. 80% of the data is used for training (X_train, y_train) and 20% for testing (X_test, y_test). The random_state ensures that the split is reproducible."
      ],
      "metadata": {
        "id": "y8WHhUgOoCa9"
      }
    },
    {
      "cell_type": "code",
      "source": [
        "from sklearn.preprocessing import StandardScaler\n",
        "\n",
        "scaler = StandardScaler()\n",
        "X_train_scaled = scaler.fit_transform(X_train)\n",
        "X_test_scaled = scaler.transform(X_test)"
      ],
      "metadata": {
        "id": "PVAYlZ77UJCW"
      },
      "execution_count": 11,
      "outputs": []
    },
    {
      "cell_type": "markdown",
      "source": [
        "Imagine you're preparing ingredients for a recipe. Some ingredients might be measured in cups, others in teaspoons. To make sure everything blends well, you need to standardize the measurements.\n",
        "\n",
        "That's exactly what this code does! It standardizes the data to ensure all features are on a similar scale. It calculates the average (mean) and spread (standard deviation) of each feature in the training data (X_train) and adjusts the values accordingly. The same transformation is then applied to the testing data (X_test) to maintain consistency. This helps the machine learning models perform better."
      ],
      "metadata": {
        "id": "8YWGLG4WoXJu"
      }
    },
    {
      "cell_type": "code",
      "source": [
        "from sklearn.linear_model import Lasso\n",
        "from sklearn.metrics import mean_squared_error, r2_score\n",
        "\n",
        "lasso = Lasso(alpha=1)  # Adjust alpha for regularization strength\n",
        "lasso.fit(X_train_scaled, y_train)\n",
        "\n",
        "#lasso = Lasso(alpha=1): Creates a Lasso regression model with a regularization strength (alpha) of 1.\n",
        "#This parameter controls how much the model penalizes large coefficients, helping to prevent overfitting.\n",
        "#lasso.fit(X_train_scaled, y_train): Trains the Lasso model using the standardized training data (X_train_scaled) and\n",
        "#corresponding target values (y_train). The model learns the relationship between the features and the target to make predictions.\n",
        "\n",
        "# Predict on test set\n",
        "y_pred_lasso = lasso.predict(X_test_scaled)\n",
        "\n",
        "# Calculate accuracy metrics\n",
        "mse_lasso = mean_squared_error(y_test, y_pred_lasso)\n",
        "r2_lasso = r2_score(y_test, y_pred_lasso)\n",
        "\n",
        "print(f\"Lasso Regression - MSE: {mse_lasso}, R2: {r2_lasso}\")"
      ],
      "metadata": {
        "colab": {
          "base_uri": "https://localhost:8080/"
        },
        "id": "XAqtkkSbUTuG",
        "outputId": "8725884e-5c24-4fe3-bcae-f56d4074c153"
      },
      "execution_count": 12,
      "outputs": [
        {
          "output_type": "stream",
          "name": "stdout",
          "text": [
            "Lasso Regression - MSE: 3695388.2562690256, R2: 0.9999995780921127\n"
          ]
        }
      ]
    },
    {
      "cell_type": "code",
      "source": [
        "from sklearn.linear_model import Ridge\n",
        "\n",
        "ridge = Ridge(alpha=0.01)  # Adjust alpha for regularization strength\n",
        "ridge.fit(X_train_scaled, y_train)\n",
        "\n",
        "# Predict on test set\n",
        "y_pred_ridge = ridge.predict(X_test_scaled)\n",
        "\n",
        "# Calculate accuracy metrics\n",
        "mse_ridge = mean_squared_error(y_test, y_pred_ridge)\n",
        "r2_ridge = r2_score(y_test, y_pred_ridge)\n",
        "\n",
        "print(f\"Ridge Regression - MSE: {mse_ridge}, R2: {r2_ridge}\")"
      ],
      "metadata": {
        "colab": {
          "base_uri": "https://localhost:8080/"
        },
        "id": "ogdJQGR8UZtx",
        "outputId": "50d9ebc7-8179-4534-f23b-16619fa4e877"
      },
      "execution_count": 13,
      "outputs": [
        {
          "output_type": "stream",
          "name": "stdout",
          "text": [
            "Ridge Regression - MSE: 3695650.408864188, R2: 0.9999995780621823\n"
          ]
        }
      ]
    },
    {
      "cell_type": "code",
      "source": [
        "from sklearn.model_selection import GridSearchCV\n",
        "\n",
        "# For Lasso\n",
        "lasso_cv = GridSearchCV(Lasso(), {'alpha': [0.01, 0.1, 1, 10]}, cv=5)\n",
        "lasso_cv.fit(X_train_scaled, y_train)\n",
        "print(f\"Best alpha for Lasso: {lasso_cv.best_params_['alpha']}\")\n",
        "\n",
        "# For Ridge\n",
        "ridge_cv = GridSearchCV(Ridge(), {'alpha': [0.01, 0.1, 1, 10]}, cv=5)\n",
        "ridge_cv.fit(X_train_scaled, y_train)\n",
        "print(f\"Best alpha for Ridge: {ridge_cv.best_params_['alpha']}\")\n"
      ],
      "metadata": {
        "colab": {
          "base_uri": "https://localhost:8080/"
        },
        "id": "0nMtmqiDUgTR",
        "outputId": "e52cd6f4-0010-4b30-83b7-ce1d1e37b98e"
      },
      "execution_count": 14,
      "outputs": [
        {
          "output_type": "stream",
          "name": "stdout",
          "text": [
            "Best alpha for Lasso: 1\n",
            "Best alpha for Ridge: 0.01\n"
          ]
        }
      ]
    },
    {
      "cell_type": "markdown",
      "source": [
        "This code uses GridSearchCV to automatically try different values for the alpha parameter in your Lasso model. It tests the values [0.01, 0.1, 1, 10], evaluates their performance using 5-fold cross-validation (cv=5), and determines which alpha results in the best model performance. This helps you optimize your Lasso model for better predictions. And same is done with Ridge."
      ],
      "metadata": {
        "id": "CNVR77sHqIIq"
      }
    },
    {
      "cell_type": "code",
      "source": [],
      "metadata": {
        "id": "s0mr6g4dqRid"
      },
      "execution_count": null,
      "outputs": []
    }
  ]
}